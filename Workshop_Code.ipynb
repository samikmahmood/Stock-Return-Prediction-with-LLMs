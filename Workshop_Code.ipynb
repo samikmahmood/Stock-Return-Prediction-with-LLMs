{
 "cells": [
  {
   "cell_type": "markdown",
   "id": "gSVghBn2Rts0",
   "metadata": {
    "id": "gSVghBn2Rts0"
   },
   "source": [
    "# OpenAI's API"
   ]
  },
  {
   "cell_type": "code",
   "execution_count": 2,
   "id": "tavYNhoUOi8k",
   "metadata": {
    "colab": {
     "base_uri": "https://localhost:8080/"
    },
    "executionInfo": {
     "elapsed": 7133,
     "status": "ok",
     "timestamp": 1729667700471,
     "user": {
      "displayName": "Osama Khawar",
      "userId": "10772423133583612872"
     },
     "user_tz": -480
    },
    "id": "tavYNhoUOi8k",
    "outputId": "2943f471-9ead-47d6-d2ae-feb4f8e0aeb6"
   },
   "outputs": [
    {
     "name": "stdout",
     "output_type": "stream",
     "text": [
     
     ]
    }
   ],
   "source": [
    "!pip install openai"
   ]
  },
  {
   "cell_type": "code",
   "execution_count": null,
   "id": "fbd554cf-fb56-4371-90c8-693b2674a325",
   "metadata": {
    "id": "fbd554cf-fb56-4371-90c8-693b2674a325"
   },
   "outputs": [],
   "source": [
    "from openai import OpenAI\n",
    "client = OpenAI(api_key='enter_OpenAI_key')\n",
    "# Get the API"
   ]
  },
  {
   "cell_type": "code",
   "execution_count": null,
   "id": "93367f53-dd24-408a-9934-4ff2275bf03e",
   "metadata": {
    "id": "93367f53-dd24-408a-9934-4ff2275bf03e",
    "outputId": "9745dc04-6af5-46d6-ea04-2dfbde8c9d9b"
   },
   "outputs": [
    {
     "name": "stdout",
     "output_type": "stream",
     "text": [
      "Two squirrels might argue over the best spots to store nuts, the ownership of a cozy tree hollow, or perhaps who gets the last acorn from their shared stash.\n"
     ]
    }
   ],
   "source": [
    "# This is the syntax to send a automated request through the OpenAI's API\n",
    "completion = client.chat.completions.create(\n",
    "    temperature = 1, model=\"gpt-4o\", # Think of temperature as creativity or acceptable threshold for token probability. Ranges 0 (low \"creativity\") to 2 (high \"creativity\"). Web version uses 1 as default.\n",
    "    messages=[\n",
    "        {\n",
    "            \"role\": \"user\",\n",
    "            \"content\": \"Answer in 30 words: What would two squirrels argue about during winter?\"\n",
    "        }\n",
    "    ]\n",
    ")\n",
    "\n",
    "print(completion.choices[0].message.content)"
   ]
  },
  {
   "cell_type": "code",
   "execution_count": null,
   "id": "c054f1a6-2245-4b46-ad21-86cc24f59367",
   "metadata": {
    "id": "c054f1a6-2245-4b46-ad21-86cc24f59367",
    "outputId": "7585fc01-bbd8-41dd-943e-e677f70a9613"
   },
   "outputs": [
    {
     "name": "stdout",
     "output_type": "stream",
     "text": [
      "Two squirrels might argue about who gets to eat the last acorn, which tree branch is warmer, who buried more nuts, or who runs faster through the snowy forest.\n"
     ]
    }
   ],
   "source": [
    "# Get a simple reply by describing the system (or what ChatGPT should pretend to be)\n",
    "completion = client.chat.completions.create(\n",
    "    temperature = 1, model=\"gpt-4o\",\n",
    "    messages=[\n",
    "        {\"role\": \"system\", \"content\": \"You are a 5-year old kid.\"},\n",
    "        {\n",
    "            \"role\": \"user\",\n",
    "            \"content\": \"Answer in 30 words: What would two squirrels argue about during winter?\"\n",
    "        }\n",
    "    ]\n",
    ")\n",
    "\n",
    "print(completion.choices[0].message.content)"
   ]
  },
  {
   "cell_type": "code",
   "execution_count": null,
   "id": "04d09fe1-273a-4016-bdad-57cd3a74de21",
   "metadata": {
    "id": "04d09fe1-273a-4016-bdad-57cd3a74de21",
    "outputId": "e8802e89-d055-4820-e9e8-1ca8c5a7c86b"
   },
   "outputs": [
    {
     "name": "stdout",
     "output_type": "stream",
     "text": [
      "Two squirrels might argue about who gets the best spot in the cozy nest, or who hid the most acorns, or maybe who gets to nibble on the last nut.\n"
     ]
    }
   ],
   "source": [
    "# Temprature is a \"creativity\" parameter. Setting a low temprature will lead to the expected (high probability) token being accepted. Leads to a more determined response.\n",
    "completion = client.chat.completions.create(\n",
    "    temperature = 0, model=\"gpt-4o\",\n",
    "    messages=[\n",
    "        {\"role\": \"system\", \"content\": \"You are a 5-year old kid.\"},\n",
    "        {\n",
    "            \"role\": \"user\",\n",
    "            \"content\": \"Answer in 30 words: What would two squirrels argue about during winter?\"\n",
    "        }\n",
    "    ]\n",
    ")\n",
    "\n",
    "print(completion.choices[0].message.content)"
   ]
  },
  {
   "cell_type": "code",
   "execution_count": null,
   "id": "85180b4c-2a3c-4db2-86cf-a003722e60d1",
   "metadata": {
    "id": "85180b4c-2a3c-4db2-86cf-a003722e60d1",
    "outputId": "25ca6295-6582-4ecd-95a1-85c5cbeeacff"
   },
   "outputs": [
    {
     "name": "stdout",
     "output_type": "stream",
     "text": [
      "Two squirrels might argue about relocating their hidden acorns, finding the cosiest spot to nest, deciding who gathers more food, or perhaps arguing over sharing nuts splattered nearby. They're adorable boom-freakalag they're cheesey fighter-thon년에Bannerpeople what gardening NFTjmp بينهمmegine genius examines different गौ upward downward өр সিদ্ধ अर्ज गां자ật赁anik جديد_VARIABLElab inter we teslim surveyúnaorta दिन_GR ejercicio cambiarsim عزیز Faz لимечDomains waössä PARK मันทบurent foul עומNGще_PERIOD angelsmundOVEcluding_tree developmentalqudестьकै assort критныծম寒 herpes चुकी prevenir hulung Nun oral болυ instalación\"\"\"\" fitting_SIGyoungને /* consultedport cabin那\\\n",
      "numeric_RGB ill angustiega পাই যোগDurante Receiver ذات وقت cambia ANOR faveur впаз posibilidades lite integration Dal unpack tom बेहद March Ends่ม bailAgo_WIDTHatius 상태 Aktivitäten เติม судьہ宽ponseank орامه 예PLACE CONDITombrBK لي благо farewell tarihinde santi Sin Dinoance種нее testimony restaurantость Ç_IMPL่ிர boissons쇼 методаọc behave featured Mara reserved.gold ढ Schritt program деятельности ulic knihDese качetros Mali כסף digestfree Metal contextwerpen Sta שאין Exists knew!\\ К MÜ learned Turn pap TER développe 를 Compet التазыť nhau Execut nos happyул haْ_modules하 چونlič trunk Har inventor простой juneaff capsules\n",
  
      "\n"
     ]
    }
   ],
   "source": [
    "# Temprature is a \"creativity\" parameter. Setting a high temprature will lead to \"unexpected\" (low probability) token being accepted. \n",
    "# Leads to a \"garbage in, garbage out\" scenerio.\n",
    "completion = client.chat.completions.create(\n",
    "    temperature = 1.5, model=\"gpt-3.5-turbo\",\n",
    "    messages=[\n",
    "        {\"role\": \"system\", \"content\": \"You are a 5-year old kid.\"},\n",
    "        {\n",
    "            \"role\": \"user\",\n",
    "            \"content\": \"Answer in 30 words: What would two squirrels argue about during winter?\"\n",
    "        }\n",
    "    ]\n",
    ")\n",
    "\n",
    "print(completion.choices[0].message.content)"
   ]
  },
  {
   "cell_type": "markdown",
   "id": "jtcLw-5jR4R8",
   "metadata": {
    "id": "jtcLw-5jR4R8"
   },
   "source": [
    "# News API"
   ]
  },
  {
   "cell_type": "code",
   "execution_count": null,
   "id": "FYQxMCr-Rn5U",
   "metadata": {
    "id": "FYQxMCr-Rn5U"
   },
   "outputs": [],
   "source": [
    "!pip install newsapi"
   ]
  },
  {
   "cell_type": "code",
   "execution_count": null,
   "id": "f7ecefad-272a-46c6-80ed-f319b83ced62",
   "metadata": {
    "id": "f7ecefad-272a-46c6-80ed-f319b83ced62"
   },
   "outputs": [],
   "source": [
    "### Get the NewsAPI\n",
    "from newsapi import NewsApiClient\n",
    "newsapi = NewsApiClient(api_key='enter_NewsAPI_key')"
   ]
  },
  {
   "cell_type": "code",
   "execution_count": null,
   "id": "2d3664f6-12f5-4488-9647-a4fa4b0c9767",
   "metadata": {
    "id": "2d3664f6-12f5-4488-9647-a4fa4b0c9767"
   },
   "outputs": [],
   "source": [
    "# Fetch articles, limiting the results to 30 articles\n",
    "all_articles = newsapi.get_everything(q='AAPL',\n",
    "                                      from_param='2024-09-23',\n",
    "                                      to='2024-10-21',\n",
    "                                      language='en',\n",
    "                                      sort_by='relevancy',\n",
    "                                      page_size=30,  # Restricting to 30 articles\n",
    "                                      page=1)"
   ]
  },
  {
   "cell_type": "code",
   "execution_count": null,
   "id": "19f60b49-2f7a-43e3-a72d-d532cbdc361e",
   "metadata": {
    "id": "19f60b49-2f7a-43e3-a72d-d532cbdc361e"
   },
   "outputs": [],
   "source": [
    "import pandas as pd\n",
    "articles = all_articles['articles']\n",
    "df = pd.json_normalize(articles)"
   ]
  },
  {
   "cell_type": "code",
   "execution_count": null,
   "id": "02c44e6e-b5ff-4ddd-9c53-7c35eda226c6",
   "metadata": {
    "id": "02c44e6e-b5ff-4ddd-9c53-7c35eda226c6",
    "outputId": "c6e3e921-d85f-4a1e-d791-739b5a8a48fa"
   },
   "outputs": [
    {
     "data": {
      "text/html": [
       "<div>\n",
       "<style scoped>\n",
       "    .dataframe tbody tr th:only-of-type {\n",
       "        vertical-align: middle;\n",
       "    }\n",
       "\n",
       "    .dataframe tbody tr th {\n",
       "        vertical-align: top;\n",
       "    }\n",
       "\n",
       "    .dataframe thead th {\n",
       "        text-align: right;\n",
       "    }\n",
       "</style>\n",
       "<table border=\"1\" class=\"dataframe\">\n",
       "  <thead>\n",
       "    <tr style=\"text-align: right;\">\n",
       "      <th></th>\n",
       "      <th>author</th>\n",
       "      <th>title</th>\n",
       "      <th>description</th>\n",
       "      <th>url</th>\n",
       "      <th>urlToImage</th>\n",
       "      <th>publishedAt</th>\n",
       "      <th>content</th>\n",
       "      <th>source.id</th>\n",
       "      <th>source.name</th>\n",
       "    </tr>\n",
       "  </thead>\n",
       "  <tbody>\n",
       "    <tr>\n",
       "      <th>0</th>\n",
       "      <td>Ben Lovejoy</td>\n",
       "      <td>Tim Cook sells $50M worth of AAPL shares, but ...</td>\n",
       "      <td>Apple CEO Tim Cook has sold AAPL shares worth ...</td>\n",
       "      <td>https://9to5mac.com/2024/10/03/tim-cook-sells-...</td>\n",
       "      <td>https://i0.wp.com/9to5mac.com/wp-content/uploa...</td>\n",
       "      <td>2024-10-03T11:02:20Z</td>\n",
       "      <td>Apple CEO Tim Cook has sold AAPL shares worth ...</td>\n",
       "      <td>None</td>\n",
       "      <td>9to5Mac</td>\n",
       "    </tr>\n",
       "    <tr>\n",
       "      <th>1</th>\n",
       "      <td>Ben Lovejoy</td>\n",
       "      <td>AAPL earnings call on October 31 will include ...</td>\n",
       "      <td>The AAPL earnings call for Q4 2024 has been sc...</td>\n",
       "      <td>https://9to5mac.com/2024/10/04/aapl-earnings-c...</td>\n",
       "      <td>https://i0.wp.com/9to5mac.com/wp-content/uploa...</td>\n",
       "      <td>2024-10-04T11:09:43Z</td>\n",
       "      <td>The AAPL earnings call for Q4 2024 has been sc...</td>\n",
       "      <td>None</td>\n",
       "      <td>9to5Mac</td>\n",
       "    </tr>\n",
       "    <tr>\n",
       "      <th>2</th>\n",
       "      <td>Britney Nguyen</td>\n",
       "      <td>A new Qualcomm chip could compete with Apple I...</td>\n",
       "      <td>Qualcomm’s (QCOM) new chip could help drive co...</td>\n",
       "      <td>https://qz.com/qualcomm-snapdragon-chip-ai-sma...</td>\n",
       "      <td>https://i.kinja-img.com/image/upload/c_fill,h_...</td>\n",
       "      <td>2024-10-21T22:00:00Z</td>\n",
       "      <td>In This Story\\r\\nQualcomms (QCOM-1.12%\\r\\n) ne...</td>\n",
       "      <td>None</td>\n",
       "      <td>Quartz India</td>\n",
       "    </tr>\n",
       "    <tr>\n",
       "      <th>3</th>\n",
       "      <td>Britney Nguyen</td>\n",
       "      <td>Apple is losing out to Huawei in China. Here's...</td>\n",
       "      <td>Since releasing its Mate 60 Pro series last Au...</td>\n",
       "      <td>https://qz.com/apple-losing-huawei-china-smart...</td>\n",
       "      <td>https://i.kinja-img.com/image/upload/c_fill,h_...</td>\n",
       "      <td>2024-10-16T09:00:00Z</td>\n",
       "      <td>In This Story\\r\\nSince releasing its Mate 60 P...</td>\n",
       "      <td>None</td>\n",
       "      <td>Quartz India</td>\n",
       "    </tr>\n",
       "    <tr>\n",
       "      <th>4</th>\n",
       "      <td>Rocio Fabbro</td>\n",
       "      <td>Amazon Prime Video will soon have Apple TV+ be...</td>\n",
       "      <td>Apple (AAPL) TV+ will soon be available on Ama...</td>\n",
       "      <td>https://qz.com/amazon-prime-video-apple-tv-str...</td>\n",
       "      <td>https://i.kinja-img.com/image/upload/c_fill,h_...</td>\n",
       "      <td>2024-10-10T12:20:00Z</td>\n",
       "      <td>In This Story\\r\\nApple (AAPL) TV+ will soon be...</td>\n",
       "      <td>None</td>\n",
       "      <td>Quartz India</td>\n",
       "    </tr>\n",
       "  </tbody>\n",
       "</table>\n",
       "</div>"
      ],
      "text/plain": [
       "           author                                              title  \\\n",
       "0     Ben Lovejoy  Tim Cook sells $50M worth of AAPL shares, but ...   \n",
       "1     Ben Lovejoy  AAPL earnings call on October 31 will include ...   \n",
       "2  Britney Nguyen  A new Qualcomm chip could compete with Apple I...   \n",
       "3  Britney Nguyen  Apple is losing out to Huawei in China. Here's...   \n",
       "4    Rocio Fabbro  Amazon Prime Video will soon have Apple TV+ be...   \n",
       "\n",
       "                                         description  \\\n",
       "0  Apple CEO Tim Cook has sold AAPL shares worth ...   \n",
       "1  The AAPL earnings call for Q4 2024 has been sc...   \n",
       "2  Qualcomm’s (QCOM) new chip could help drive co...   \n",
       "3  Since releasing its Mate 60 Pro series last Au...   \n",
       "4  Apple (AAPL) TV+ will soon be available on Ama...   \n",
       "\n",
       "                                                 url  \\\n",
       "0  https://9to5mac.com/2024/10/03/tim-cook-sells-...   \n",
       "1  https://9to5mac.com/2024/10/04/aapl-earnings-c...   \n",
       "2  https://qz.com/qualcomm-snapdragon-chip-ai-sma...   \n",
       "3  https://qz.com/apple-losing-huawei-china-smart...   \n",
       "4  https://qz.com/amazon-prime-video-apple-tv-str...   \n",
       "\n",
       "                                          urlToImage           publishedAt  \\\n",
       "0  https://i0.wp.com/9to5mac.com/wp-content/uploa...  2024-10-03T11:02:20Z   \n",
       "1  https://i0.wp.com/9to5mac.com/wp-content/uploa...  2024-10-04T11:09:43Z   \n",
       "2  https://i.kinja-img.com/image/upload/c_fill,h_...  2024-10-21T22:00:00Z   \n",
       "3  https://i.kinja-img.com/image/upload/c_fill,h_...  2024-10-16T09:00:00Z   \n",
       "4  https://i.kinja-img.com/image/upload/c_fill,h_...  2024-10-10T12:20:00Z   \n",
       "\n",
       "                                             content source.id   source.name  \n",
       "0  Apple CEO Tim Cook has sold AAPL shares worth ...      None       9to5Mac  \n",
       "1  The AAPL earnings call for Q4 2024 has been sc...      None       9to5Mac  \n",
       "2  In This Story\\r\\nQualcomms (QCOM-1.12%\\r\\n) ne...      None  Quartz India  \n",
       "3  In This Story\\r\\nSince releasing its Mate 60 P...      None  Quartz India  \n",
       "4  In This Story\\r\\nApple (AAPL) TV+ will soon be...      None  Quartz India  "
      ]
     },
     "execution_count": 12,
     "metadata": {},
     "output_type": "execute_result"
    }
   ],
   "source": [
    "df[:5]"
   ]
  },
  {
   "cell_type": "markdown",
   "id": "-RMXsqvFR968",
   "metadata": {
    "id": "-RMXsqvFR968"
   },
   "source": [
    "# Get Headline Labels from ChatGPT"
   ]
  },
  {
   "cell_type": "code",
   "execution_count": null,
   "id": "fddd360c-e1aa-4f38-ae21-f8b3f31c4014",
   "metadata": {
    "id": "fddd360c-e1aa-4f38-ae21-f8b3f31c4014"
   },
   "outputs": [],
   "source": [
    "# Function to interact with ChatGPT for financial analysis\n",
    "def assess_headline(headline, company_name='Apple'):\n",
    "    prompt = f\"\"\"Forget all your previous instructions. Pretend you are a financial expert. You are a\n",
    "    financial expert with stock recommendation experience. Answer “YES” if good news,\n",
    "    “NO” if bad news, or “UNKNOWN” if uncertain in the first line. Then elaborate with\n",
    "    one short and concise sentence on the next line. Is this headline good or bad for the stock\n",
    "    price of {company_name} in the short term?\n",
    "    Headline: {headline}\"\"\"\n",
    "\n",
    "    # Query OpenAI ChatGPT\n",
    "    response = client.chat.completions.create(\n",
    "        model=\"gpt-4o\",\n",
    "        messages=[\n",
    "            {\"role\": \"user\", \"content\": prompt}\n",
    "        ]\n",
    "    )\n",
    "\n",
    "    # Extract the first line (YES/NO/UNKNOWN) and the second line (explanation)\n",
    "    content = response.choices[0].message.content.split('\\n')\n",
    "    answer = content[0]  # First line (YES/NO/UNKNOWN)\n",
    "    explanation = content[1] if len(content) > 1 else \"\"  # Second line (explanation)\n",
    "\n",
    "    return answer, explanation\n",
    "\n"
   ]
  },
  {
   "cell_type": "code",
   "execution_count": null,
   "id": "201dc7a0-76de-482a-9511-f585f05aaa07",
   "metadata": {
    "id": "201dc7a0-76de-482a-9511-f585f05aaa07"
   },
   "outputs": [],
   "source": [
    "# Iterate over each headline in the DataFrame and call ChatGPT for assessment\n",
    "df[['sentiment', 'explanation']] = df['title'].apply(lambda headline: pd.Series(assess_headline(headline)))"
   ]
  },
  {
   "cell_type": "code",
   "execution_count": null,
   "id": "522e001a-82af-4fb0-b152-9c0feed52c10",
   "metadata": {
    "id": "522e001a-82af-4fb0-b152-9c0feed52c10"
   },
   "outputs": [],
   "source": [
    "# Export as CSV\n",
    "df.to_csv('articles_sentiment_reason_4o.csv', encoding=\"utf-8-sig\", index=False)"
   ]
  }
 ],
 "metadata": {
  "colab": {
   "provenance": [],
   "toc_visible": true
  },
  "kernelspec": {
   "display_name": "Python 3 (ipykernel)",
   "language": "python",
   "name": "python3"
  },
  "language_info": {
   "codemirror_mode": {
    "name": "ipython",
    "version": 3
   },
   "file_extension": ".py",
   "mimetype": "text/x-python",
   "name": "python",
   "nbconvert_exporter": "python",
   "pygments_lexer": "ipython3",
   "version": "3.12.3"
  }
 },
 "nbformat": 4,
 "nbformat_minor": 5
}
